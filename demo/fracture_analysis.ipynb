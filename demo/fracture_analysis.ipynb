{
 "cells": [
  {
   "cell_type": "code",
   "execution_count": 1,
   "source": [
    "import os, sys\n",
    "sys.path.append(os.path.dirname(os.getcwd()))\n",
    "print_tensor = lambda n, x: print(n, type(x), x.shape, x.min(), x.max())\n",
    "print(sys.path)\n",
    "# from pathlib import Pathth\n"
   ],
   "outputs": [
    {
     "output_type": "stream",
     "name": "stdout",
     "text": [
      "['/home/dejuns/git/mmdet4med/demo', '/home/dejuns/.vscode-server/extensions/ms-toolsai.jupyter-2021.8.2041215044/pythonFiles', '/home/dejuns/.vscode-server/extensions/ms-toolsai.jupyter-2021.8.2041215044/pythonFiles/lib/python', '/home/dejuns/miniconda3/lib/python38.zip', '/home/dejuns/miniconda3/lib/python3.8', '/home/dejuns/miniconda3/lib/python3.8/lib-dynload', '', '/home/dejuns/miniconda3/lib/python3.8/site-packages', '/home/dejuns/git/mmseg4med', '/home/dejuns/miniconda3/lib/python3.8/site-packages/ribfrac-1.0.0-py3.8.egg', '/home/dejuns/git/nnDetection', '/home/dejuns/git/mmdet4med', '/home/dejuns/miniconda3/lib/python3.8/site-packages/IPython/extensions', '/home/dejuns/.ipython', '/home/dejuns/git/mmdet4med']\n"
     ]
    }
   ],
   "metadata": {}
  },
  {
   "cell_type": "code",
   "execution_count": 3,
   "source": [
    "%matplotlib inline\n",
    "%reload_ext autoreload\n",
    "%autoreload 2"
   ],
   "outputs": [],
   "metadata": {}
  },
  {
   "cell_type": "code",
   "execution_count": 4,
   "source": [
    "import pandas as pd\n",
    "from demo.visual_gt_pred import *\n",
    "import re\n",
    "import mmcv\n",
    "\n",
    "# # load data from a file-like object, supporting json, yaml and pickle.\n",
    "# with open('test.json', 'r') as f:\n",
    "#     data = mmcv.load(f, file_format='json')\n",
    "# # dump data to a string\n",
    "# json_str = mmcv.dump(data, file_format='json')\n",
    "# mmcv.list_from_file('a.txt')"
   ],
   "outputs": [],
   "metadata": {}
  },
  {
   "cell_type": "code",
   "execution_count": 8,
   "source": [
    "tb_rt = Path('/data/lung_algorithm/data/DetFrac/processed_new/plan_rib_crop')\n",
    "\n",
    "cohortids = [a for a in os.listdir(tb_rt) if os.path.isdir(tb_rt/a)]\n",
    "\n",
    "roi_all_list = []\n",
    "for cohort in cohortids:\n",
    "    cohort_dir = tb_rt/cohort\n",
    "    cids = os.listdir(cohort_dir)\n",
    "    \n",
    "    for cid in cids:\n",
    "        roi_fp = cohort_dir/f'{cid}/{cid}_ins2cls.json'\n",
    "        with open(roi_fp, 'r') as f:\n",
    "            roi_info = mmcv.load(f, file_format='json')\n",
    "        for roi in roi_info: \n",
    "            roi['cohort'] = cohort\n",
    "            roi['cid'] = cid\n",
    "            roi['size'] = np.linalg.norm(np.array(roi['bbox'])[3:] - np.array(roi['bbox'])[:3])\n",
    "        roi_all_list.extend(roi_info)\n",
    "\n",
    "roi_all_tb = pd.DataFrame(roi_all_list)\n",
    "roi_all_tb['source'] = roi_all_tb['cohort'].apply(lambda x: 'ky' if 'KY' in x else 'pub')\n",
    "roi_all_tb.info()\n",
    "roi_all_tb.to_csv(tb_rt/'fracture_instance_info_all.csv')"
   ],
   "outputs": [
    {
     "output_type": "stream",
     "name": "stdout",
     "text": [
      "<class 'pandas.core.frame.DataFrame'>\n",
      "RangeIndex: 6238 entries, 0 to 6237\n",
      "Data columns (total 8 columns):\n",
      " #   Column          Non-Null Count  Dtype  \n",
      "---  ------          --------------  -----  \n",
      " 0   bbox            6238 non-null   object \n",
      " 1   center          6238 non-null   object \n",
      " 2   class           6238 non-null   int64  \n",
      " 3   instance        6238 non-null   int64  \n",
      " 4   spine_boundary  6238 non-null   object \n",
      " 5   cohort          6238 non-null   object \n",
      " 6   cid             6238 non-null   object \n",
      " 7   size            6238 non-null   float64\n",
      "dtypes: float64(1), int64(2), object(5)\n",
      "memory usage: 390.0+ KB\n"
     ]
    }
   ],
   "metadata": {}
  },
  {
   "cell_type": "code",
   "execution_count": 9,
   "source": [
    "\n"
   ],
   "outputs": [
    {
     "output_type": "execute_result",
     "data": {
      "text/html": [
       "<div>\n",
       "<style scoped>\n",
       "    .dataframe tbody tr th:only-of-type {\n",
       "        vertical-align: middle;\n",
       "    }\n",
       "\n",
       "    .dataframe tbody tr th {\n",
       "        vertical-align: top;\n",
       "    }\n",
       "\n",
       "    .dataframe thead th {\n",
       "        text-align: right;\n",
       "    }\n",
       "</style>\n",
       "<table border=\"1\" class=\"dataframe\">\n",
       "  <thead>\n",
       "    <tr style=\"text-align: right;\">\n",
       "      <th></th>\n",
       "      <th>bbox</th>\n",
       "      <th>center</th>\n",
       "      <th>class</th>\n",
       "      <th>instance</th>\n",
       "      <th>spine_boundary</th>\n",
       "      <th>cohort</th>\n",
       "      <th>cid</th>\n",
       "      <th>size</th>\n",
       "    </tr>\n",
       "  </thead>\n",
       "  <tbody>\n",
       "    <tr>\n",
       "      <th>0</th>\n",
       "      <td>[88, 63, 120, 106, 80, 136]</td>\n",
       "      <td>[97, 72, 128]</td>\n",
       "      <td>4</td>\n",
       "      <td>1</td>\n",
       "      <td>[201, 265, 193, 292]</td>\n",
       "      <td>KY_B3_20_crop</td>\n",
       "      <td>3762676</td>\n",
       "      <td>29.478806</td>\n",
       "    </tr>\n",
       "    <tr>\n",
       "      <th>1</th>\n",
       "      <td>[105, 47, 149, 123, 69, 163]</td>\n",
       "      <td>[113, 57, 155]</td>\n",
       "      <td>3</td>\n",
       "      <td>2</td>\n",
       "      <td>[201, 265, 193, 292]</td>\n",
       "      <td>KY_B3_20_crop</td>\n",
       "      <td>3762676</td>\n",
       "      <td>31.685959</td>\n",
       "    </tr>\n",
       "    <tr>\n",
       "      <th>2</th>\n",
       "      <td>[81, 171, 209, 97, 199, 220]</td>\n",
       "      <td>[89, 183, 214]</td>\n",
       "      <td>4</td>\n",
       "      <td>1</td>\n",
       "      <td>[208, 265, 186, 292]</td>\n",
       "      <td>KY_B3_20_crop</td>\n",
       "      <td>1614752</td>\n",
       "      <td>34.073450</td>\n",
       "    </tr>\n",
       "    <tr>\n",
       "      <th>3</th>\n",
       "      <td>[276, 282, 97, 297, 295, 108]</td>\n",
       "      <td>[285, 288, 102]</td>\n",
       "      <td>1</td>\n",
       "      <td>1</td>\n",
       "      <td>[209, 275, 223, 324]</td>\n",
       "      <td>KY_B3_20_crop</td>\n",
       "      <td>1288841</td>\n",
       "      <td>27.037012</td>\n",
       "    </tr>\n",
       "    <tr>\n",
       "      <th>4</th>\n",
       "      <td>[418, 76, 111, 440, 91, 118]</td>\n",
       "      <td>[429, 83, 114]</td>\n",
       "      <td>2</td>\n",
       "      <td>1</td>\n",
       "      <td>[232, 296, 206, 303]</td>\n",
       "      <td>KY_B3_20_crop</td>\n",
       "      <td>1775362</td>\n",
       "      <td>27.531800</td>\n",
       "    </tr>\n",
       "  </tbody>\n",
       "</table>\n",
       "</div>"
      ],
      "text/plain": [
       "                            bbox           center  class  instance  \\\n",
       "0    [88, 63, 120, 106, 80, 136]    [97, 72, 128]      4         1   \n",
       "1   [105, 47, 149, 123, 69, 163]   [113, 57, 155]      3         2   \n",
       "2   [81, 171, 209, 97, 199, 220]   [89, 183, 214]      4         1   \n",
       "3  [276, 282, 97, 297, 295, 108]  [285, 288, 102]      1         1   \n",
       "4   [418, 76, 111, 440, 91, 118]   [429, 83, 114]      2         1   \n",
       "\n",
       "         spine_boundary         cohort      cid       size  \n",
       "0  [201, 265, 193, 292]  KY_B3_20_crop  3762676  29.478806  \n",
       "1  [201, 265, 193, 292]  KY_B3_20_crop  3762676  31.685959  \n",
       "2  [208, 265, 186, 292]  KY_B3_20_crop  1614752  34.073450  \n",
       "3  [209, 275, 223, 324]  KY_B3_20_crop  1288841  27.037012  \n",
       "4  [232, 296, 206, 303]  KY_B3_20_crop  1775362  27.531800  "
      ]
     },
     "metadata": {},
     "execution_count": 9
    }
   ],
   "metadata": {}
  },
  {
   "cell_type": "code",
   "execution_count": 40,
   "source": [
    "# roi_all_tb['size'].hist(bins = 40, by= roi_all_tb['class'], layout = (1, 4), figsize=(12, 3))\n",
    "ax = roi_all_tb['size'].plot.box(by= roi_all_tb['class'])\n"
   ],
   "outputs": [
    {
     "output_type": "display_data",
     "data": {
      "image/png": "[encoded data removed]",
      "text/plain": [
       "<Figure size 432x288 with 1 Axes>"
      ]
     },
     "metadata": {
      "needs_background": "light"
     }
    }
   ],
   "metadata": {}
  },
  {
   "cell_type": "code",
   "execution_count": 14,
   "source": [
    "\n",
    "roi_all_tb['class'].hist(by= roi_all_tb['source'])\n"
   ],
   "outputs": [
    {
     "output_type": "execute_result",
     "data": {
      "text/plain": [
       "array([<AxesSubplot:title={'center':'ky'}>,\n",
       "       <AxesSubplot:title={'center':'pub'}>], dtype=object)"
      ]
     },
     "metadata": {},
     "execution_count": 14
    },
    {
     "output_type": "display_data",
     "data": {
      "image/png": "[encoded data removed]",
      "text/plain": [
       "<Figure size 432x288 with 2 Axes>"
      ]
     },
     "metadata": {
      "needs_background": "light"
     }
    }
   ],
   "metadata": {}
  },
  {
   "cell_type": "code",
   "execution_count": 15,
   "source": [
    "cls_by_source = pd.crosstab(roi_all_tb['class'], roi_all_tb['source'])\n",
    "print(cls_by_source)"
   ],
   "outputs": [
    {
     "output_type": "stream",
     "name": "stdout",
     "text": [
      "source    ky   pub\n",
      "class             \n",
      "1        314    52\n",
      "2        331    44\n",
      "3       1148   827\n",
      "4        977  2545\n"
     ]
    }
   ],
   "metadata": {}
  },
  {
   "cell_type": "code",
   "execution_count": 39,
   "source": [
    "roi_info_ky = roi_all_tb.loc[roi_all_tb['source'] == 'ky', :]\n",
    "roi_info_pub = roi_all_tb.loc[roi_all_tb['source'] == 'pub', :]\n",
    "\n",
    "roi_info_ky['size'].hist(by= roi_info_ky['class'], layout = (1, 4), figsize=(12, 3))\n",
    "roi_info_pub['size'].hist(by= roi_info_pub['class'], layout = (1, 4), figsize=(12, 3))\n",
    "\n",
    "print('Num fracture keya', len(roi_info_ky))\n",
    "print('Num fracture pub', len(roi_info_pub))"
   ],
   "outputs": [
    {
     "output_type": "stream",
     "name": "stdout",
     "text": [
      "Num fracture keya 2770\n",
      "Num fracture pub 3468\n"
     ]
    },
    {
     "output_type": "display_data",
     "data": {
      "image/png": "[encoded data removed]",
      "text/plain": [
       "<Figure size 864x216 with 4 Axes>"
      ]
     },
     "metadata": {
      "needs_background": "light"
     }
    },
    {
     "output_type": "display_data",
     "data": {
      "image/png": "[encoded data removed]",
      "text/plain": [
       "<Figure size 864x216 with 4 Axes>"
      ]
     },
     "metadata": {
      "needs_background": "light"
     }
    }
   ],
   "metadata": {}
  },
  {
   "cell_type": "code",
   "execution_count": 22,
   "source": [
    "pid_base_infos = pd.pivot_table(roi_all_tb, index = ['cid', 'cohort', 'source'], values = 'instance', aggfunc=lambda x: len(x))\n",
    "pid_base_infos.reset_index(inplace = True)\n",
    "print(pid_base_infos.info())\n",
    "print(pid_base_infos.describe())\n",
    "# pred_case_tb = pd.pivot_table(pred_nodes_tb,index = ['pid', 'date_num', 'sub_dir'],\n",
    "#                                           # columns = [''],\n",
    "#                                           values = 'node_type',\n",
    "#                                           aggfunc=lambda x:len(x))"
   ],
   "outputs": [
    {
     "output_type": "stream",
     "name": "stdout",
     "text": [
      "<class 'pandas.core.frame.DataFrame'>\n",
      "RangeIndex: 1173 entries, 0 to 1172\n",
      "Data columns (total 4 columns):\n",
      " #   Column    Non-Null Count  Dtype \n",
      "---  ------    --------------  ----- \n",
      " 0   cid       1173 non-null   object\n",
      " 1   cohort    1173 non-null   object\n",
      " 2   source    1173 non-null   object\n",
      " 3   instance  1173 non-null   int64 \n",
      "dtypes: int64(1), object(3)\n",
      "memory usage: 36.8+ KB\n",
      "None\n",
      "          instance\n",
      "count  1173.000000\n",
      "mean      5.317988\n",
      "std       4.376519\n",
      "min       1.000000\n",
      "25%       2.000000\n",
      "50%       4.000000\n",
      "75%       7.000000\n",
      "max      32.000000\n"
     ]
    }
   ],
   "metadata": {}
  },
  {
   "cell_type": "code",
   "execution_count": 24,
   "source": [
    "pid_base_infos['instance'].hist(by = pid_base_infos['source'])"
   ],
   "outputs": [
    {
     "output_type": "execute_result",
     "data": {
      "text/plain": [
       "array([<AxesSubplot:title={'center':'ky'}>,\n",
       "       <AxesSubplot:title={'center':'pub'}>], dtype=object)"
      ]
     },
     "metadata": {},
     "execution_count": 24
    },
    {
     "output_type": "display_data",
     "data": {
      "image/png": "[encoded data removed]",
      "text/plain": [
       "<Figure size 432x288 with 2 Axes>"
      ]
     },
     "metadata": {
      "needs_background": "light"
     }
    }
   ],
   "metadata": {}
  },
  {
   "cell_type": "code",
   "execution_count": 37,
   "source": [
    "# pib_ky_tb = pid_base_infos.loc[pid_base_infos['source'] == 'ky', :]\n",
    "count_by_cohort = pid_base_infos['cohort'].value_counts()\n",
    "print(count_by_cohort, sum(count_by_cohort))\n"
   ],
   "outputs": [
    {
     "output_type": "stream",
     "name": "stdout",
     "text": [
      "ribfrac2020_crop    438\n",
      "KY_B7_158_crop      158\n",
      "KY_B9_150_crop      150\n",
      "KY_B8_120_crop      120\n",
      "KY_B5_74_crop        74\n",
      "KY_B0_100_crop       73\n",
      "KY_B6_48_crop        48\n",
      "KY_B4_50_crop        48\n",
      "KY_B1_30_crop        27\n",
      "KY_B3_20_crop        20\n",
      "KY_B2_20_crop        17\n",
      "Name: cohort, dtype: int64 1173\n"
     ]
    }
   ],
   "metadata": {}
  },
  {
   "cell_type": "code",
   "execution_count": 38,
   "source": [
    "ax = count_by_cohort.plot.bar()\n",
    "print(ax)"
   ],
   "outputs": [
    {
     "output_type": "stream",
     "name": "stdout",
     "text": [
      "AxesSubplot(0.125,0.125;0.775x0.755)\n"
     ]
    },
    {
     "output_type": "display_data",
     "data": {
      "image/png": "[encoded data removed]",
      "text/plain": [
       "<Figure size 432x288 with 1 Axes>"
      ]
     },
     "metadata": {
      "needs_background": "light"
     }
    }
   ],
   "metadata": {}
  },
  {
   "cell_type": "code",
   "execution_count": null,
   "source": [],
   "outputs": [],
   "metadata": {}
  }
 ],
 "metadata": {
  "kernelspec": {
   "name": "python3",
   "display_name": "Python 3.8.5 64-bit ('base': conda)"
  },
  "language_info": {
   "codemirror_mode": {
    "name": "ipython",
    "version": 3
   },
   "file_extension": ".py",
   "mimetype": "text/x-python",
   "name": "python",
   "nbconvert_exporter": "python",
   "pygments_lexer": "ipython3",
   "version": "3.8.5"
  },
  "interpreter": {
   "hash": "b313b89c770c2a07f40ad750b6217309c13836414a0cf296ef83f5564efd635c"
  }
 },
 "nbformat": 4,
 "nbformat_minor": 4
}