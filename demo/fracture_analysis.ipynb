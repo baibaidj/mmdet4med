{
 "cells": [
  {
   "cell_type": "code",
   "execution_count": 1,
   "metadata": {},
   "outputs": [
    {
     "name": "stdout",
     "output_type": "stream",
     "text": [
      "['/home/dejuns/git/mmdet4med/demo', '/home/dejuns/git/nnDetection', '/home/dejuns/git/MONAI', '/home/dejuns/git/mmdet4med/demo', '/home/dejuns/miniconda3/lib/python38.zip', '/home/dejuns/miniconda3/lib/python3.8', '/home/dejuns/miniconda3/lib/python3.8/lib-dynload', '', '/home/dejuns/miniconda3/lib/python3.8/site-packages', '/home/dejuns/git/mmseg4med', '/home/dejuns/miniconda3/lib/python3.8/site-packages/D3D-1.0-py3.8-linux-x86_64.egg', '/home/dejuns/miniconda3/lib/python3.8/site-packages/IPython/extensions', '/home/dejuns/.ipython', '/home/dejuns/git/mmdet4med']\n"
     ]
    }
   ],
   "source": [
    "import os, sys\n",
    "sys.path.append(os.path.dirname(os.getcwd()))\n",
    "print_tensor = lambda n, x: print(n, type(x), x.shape, x.min(), x.max())\n",
    "print(sys.path)\n",
    "# from pathlib import Pathth\n"
   ]
  },
  {
   "cell_type": "code",
   "execution_count": 2,
   "metadata": {},
   "outputs": [],
   "source": [
    "%matplotlib inline\n",
    "%reload_ext autoreload\n",
    "%autoreload 2"
   ]
  },
  {
   "cell_type": "code",
   "execution_count": 3,
   "metadata": {},
   "outputs": [],
   "source": [
    "import pandas as pd\n",
    "from demo.visual_gt_pred import *\n",
    "import re\n",
    "import mmcv\n",
    "\n",
    "# # load data from a file-like object, supporting json, yaml and pickle.\n",
    "# with open('test.json', 'r') as f:\n",
    "#     data = mmcv.load(f, file_format='json')\n",
    "# # dump data to a string\n",
    "# json_str = mmcv.dump(data, file_format='json')\n",
    "# mmcv.list_from_file('a.txt')"
   ]
  },
  {
   "cell_type": "code",
   "execution_count": 4,
   "metadata": {},
   "outputs": [
    {
     "name": "stdout",
     "output_type": "stream",
     "text": [
      "<class 'pandas.core.frame.DataFrame'>\n",
      "RangeIndex: 6986 entries, 0 to 6985\n",
      "Data columns (total 8 columns):\n",
      " #   Column    Non-Null Count  Dtype  \n",
      "---  ------    --------------  -----  \n",
      " 0   bbox      6986 non-null   object \n",
      " 1   center    6986 non-null   object \n",
      " 2   class     6986 non-null   int64  \n",
      " 3   instance  6986 non-null   int64  \n",
      " 4   cohort    6986 non-null   object \n",
      " 5   cid       6986 non-null   object \n",
      " 6   size      6986 non-null   float64\n",
      " 7   source    6986 non-null   object \n",
      "dtypes: float64(1), int64(2), object(5)\n",
      "memory usage: 436.8+ KB\n"
     ]
    }
   ],
   "source": [
    "# tb_rt = Path('/data/lung_algorithm/data/DetFrac/processed_new/plan_rib_crop')\n",
    "tb_rt = Path('/mnt/data4t/dejuns/ribfrac/processed/plan_frac_recheck')\n",
    "\n",
    "cohortids = [a for a in os.listdir(tb_rt) if os.path.isdir(tb_rt/a)]\n",
    "\n",
    "roi_all_list = []\n",
    "for cohort in cohortids:\n",
    "    cohort_dir = tb_rt/cohort\n",
    "    cids = os.listdir(cohort_dir)\n",
    "    \n",
    "    for cid in cids:\n",
    "        roi_fp = cohort_dir/f'{cid}/{cid}_ins2cls.json'\n",
    "        with open(roi_fp, 'r') as f:\n",
    "            roi_info = mmcv.load(f, file_format='json')\n",
    "        for roi in roi_info: \n",
    "            roi['cohort'] = cohort\n",
    "            roi['cid'] = cid\n",
    "            roi['size'] = np.linalg.norm(np.array(roi['bbox'])[3:] - np.array(roi['bbox'])[:3])\n",
    "        roi_all_list.extend(roi_info)\n",
    "\n",
    "roi_all_tb = pd.DataFrame(roi_all_list)\n",
    "roi_all_tb['source'] = roi_all_tb['cohort'].apply(lambda x: 'ky' if 'KY' in x else 'pub')\n",
    "roi_all_tb.info()\n",
    "roi_all_tb.to_csv(tb_rt/'fracture_instance_info_all.csv')"
   ]
  },
  {
   "cell_type": "code",
   "execution_count": 7,
   "metadata": {},
   "outputs": [
    {
     "name": "stdout",
     "output_type": "stream",
     "text": [
      "[5 2 3 4 1 7]\n",
      "class 7 instance 37 pid 24\n",
      "1603363-20200730\n",
      "1601292-20200727\n",
      "1623917-20200830\n",
      "1675698-20201113\n",
      "1661049-20201023\n",
      "1668356-20201103\n",
      "1677784-20201117\n",
      "3807983\n",
      "3025737\n",
      "3807050\n",
      "1674132-20201111\n",
      "1731070_20210204\n",
      "1729893_20210202\n",
      "2074331\n",
      "1398111_20190725\n",
      "1672012-20201108\n",
      "1647463-20201002\n",
      "1666875-20201101\n",
      "1667050-20201101\n",
      "1672258-20201109\n",
      "1646995-20201001\n",
      "1617405-20200820\n",
      "1616225-20200819\n",
      "1617669-20200820\n"
     ]
    }
   ],
   "source": [
    "class_unique = roi_all_tb['class'].unique()\n",
    "print(class_unique)\n",
    "\n",
    "error_cls_mask = roi_all_tb['class'] > 5\n",
    "error_cls_tb = roi_all_tb.loc[error_cls_mask , : ]\n",
    "# error_cls_mask.to_csv(tb_rt/'fracture_instance_error_cls_mask.csv')\n",
    "num_of_error = sum(error_cls_mask)\n",
    "error_pids = error_cls_tb['cid'].unique()\n",
    "print(f'class 7 instance {num_of_error} pid', len(error_pids))\n",
    "aa = [print(a) for a in error_pids]"
   ]
  },
  {
   "cell_type": "code",
   "execution_count": 8,
   "metadata": {},
   "outputs": [
    {
     "data": {
      "image/png": "[encoded data removed]",
      "text/plain": [
       "<Figure size 432x288 with 1 Axes>"
      ]
     },
     "metadata": {
      "needs_background": "light"
     },
     "output_type": "display_data"
    }
   ],
   "source": [
    "# roi_all_tb['size'].hist(bins = 40, by= roi_all_tb['class'], layout = (1, 4), figsize=(12, 3))\n",
    "ax = roi_all_tb['size'].plot.box(by= roi_all_tb['class'])\n"
   ]
  },
  {
   "cell_type": "code",
   "execution_count": 9,
   "metadata": {},
   "outputs": [
    {
     "data": {
      "text/plain": [
       "<AxesSubplot:>"
      ]
     },
     "execution_count": 9,
     "metadata": {},
     "output_type": "execute_result"
    },
    {
     "data": {
      "image/png": "[encoded data removed]",
      "text/plain": [
       "<Figure size 432x288 with 1 Axes>"
      ]
     },
     "metadata": {
      "needs_background": "light"
     },
     "output_type": "display_data"
    }
   ],
   "source": [
    "\n",
    "roi_all_tb['class'].hist() # by= roi_all_tb['source']\n"
   ]
  },
  {
   "cell_type": "code",
   "execution_count": 10,
   "metadata": {},
   "outputs": [
    {
     "name": "stdout",
     "output_type": "stream",
     "text": [
      "source    ky\n",
      "class       \n",
      "1        305\n",
      "2        442\n",
      "3       1035\n",
      "4        543\n",
      "5       4624\n",
      "7         37\n"
     ]
    }
   ],
   "source": [
    "cls_by_source = pd.crosstab(roi_all_tb['class'], roi_all_tb['source'])\n",
    "print(cls_by_source)"
   ]
  },
  {
   "cell_type": "code",
   "execution_count": null,
   "metadata": {},
   "outputs": [],
   "source": [
    "roi_info_ky = roi_all_tb.loc[roi_all_tb['source'] == 'ky', :]\n",
    "# roi_info_pub = roi_all_tb.loc[roi_all_tb['source'] == 'pub', :]\n",
    "\n",
    "roi_info_ky['size'].hist(by= roi_info_ky['class'], layout = (1, 6), figsize=(12, 3))\n",
    "# roi_info_pub['size'].hist(by= roi_info_pub['class'], layout = (1, 4), figsize=(12, 3))\n",
    "\n",
    "print('Num fracture keya', len(roi_info_ky))\n",
    "# print('Num fracture pub', len(roi_info_pub))"
   ]
  },
  {
   "cell_type": "code",
   "execution_count": null,
   "metadata": {},
   "outputs": [],
   "source": [
    "tp_mask = roi_all_tb.loc[roi_all_tb['class'] < 5 , : ]\n",
    "roi_tp_tb = roi_all_tb.loc[tp_mask, :]\n",
    "roi_tp_tb.reset_index(inpl)\n",
    "pid_base_infos = pd.pivot_table(roi_tp_tb, index = ['cid', 'cohort', 'source'], values = 'instance', aggfunc=lambda x: len(x))\n",
    "pid_base_infos.reset_index(inplace = True)\n",
    "print(pid_base_infos.info())\n",
    "print(pid_base_infos.describe())\n",
    "# pred_case_tb = pd.pivot_table(pred_nodes_tb,index = ['pid', 'date_num', 'sub_dir'],\n",
    "#                                           # columns = [''],\n",
    "#                                           values = 'node_type',\n",
    "#                                           aggfunc=lambda x:len(x))"
   ]
  },
  {
   "cell_type": "code",
   "execution_count": null,
   "metadata": {},
   "outputs": [],
   "source": [
    "pid_base_infos['instance'].hist(by = pid_base_infos['source'])"
   ]
  },
  {
   "cell_type": "code",
   "execution_count": null,
   "metadata": {},
   "outputs": [],
   "source": [
    "# pib_ky_tb = pid_base_infos.loc[pid_base_infos['source'] == 'ky', :]\n",
    "count_by_cohort = pid_base_infos['cohort'].value_counts()\n",
    "print(count_by_cohort, sum(count_by_cohort))\n"
   ]
  },
  {
   "cell_type": "code",
   "execution_count": null,
   "metadata": {},
   "outputs": [],
   "source": [
    "ax = count_by_cohort.plot.bar()\n",
    "print(ax)"
   ]
  },
  {
   "cell_type": "code",
   "execution_count": null,
   "metadata": {},
   "outputs": [],
   "source": []
  }
 ],
 "metadata": {
  "interpreter": {
   "hash": "b313b89c770c2a07f40ad750b6217309c13836414a0cf296ef83f5564efd635c"
  },
  "kernelspec": {
   "display_name": "Python 3",
   "language": "python",
   "name": "python3"
  },
  "language_info": {
   "codemirror_mode": {
    "name": "ipython",
    "version": 3
   },
   "file_extension": ".py",
   "mimetype": "text/x-python",
   "name": "python",
   "nbconvert_exporter": "python",
   "pygments_lexer": "ipython3",
   "version": "3.8.5"
  }
 },
 "nbformat": 4,
 "nbformat_minor": 4
}
