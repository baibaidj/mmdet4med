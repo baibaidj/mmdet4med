{
 "cells": [
  {
   "cell_type": "code",
   "execution_count": 2,
   "metadata": {},
   "outputs": [
    {
     "name": "stdout",
     "output_type": "stream",
     "text": [
      "['/home/dejuns/git/mmdet4med/demo', '/home/dejuns/.vscode-server/extensions/ms-toolsai.jupyter-2021.10.1101450599/pythonFiles', '/home/dejuns/.vscode-server/extensions/ms-toolsai.jupyter-2021.10.1101450599/pythonFiles/lib/python', '/home/dejuns/miniconda3/lib/python38.zip', '/home/dejuns/miniconda3/lib/python3.8', '/home/dejuns/miniconda3/lib/python3.8/lib-dynload', '', '/home/dejuns/miniconda3/lib/python3.8/site-packages', '/home/dejuns/git/mmseg4med', '/home/dejuns/miniconda3/lib/python3.8/site-packages/ribfrac-1.0.0-py3.8.egg', '/home/dejuns/git/nnDetection', '/home/dejuns/git/mmdet4med', '/home/dejuns/miniconda3/lib/python3.8/site-packages/D3D-1.0-py3.8-linux-x86_64.egg', '/home/dejuns/miniconda3/lib/python3.8/site-packages/IPython/extensions', '/home/dejuns/.ipython', '/home/dejuns/git/mmdet4med']\n"
     ]
    }
   ],
   "source": [
    "import os, sys\n",
    "sys.path.append(os.path.dirname(os.getcwd()))\n",
    "print_tensor = lambda n, x: print(n, type(x), x.shape, x.min(), x.max())\n",
    "print(sys.path)\n",
    "# from pathlib import Pathth\n"
   ]
  },
  {
   "cell_type": "code",
   "execution_count": 3,
   "metadata": {},
   "outputs": [],
   "source": [
    "%matplotlib inline\n",
    "%reload_ext autoreload\n",
    "%autoreload 2"
   ]
  },
  {
   "cell_type": "code",
   "execution_count": 4,
   "metadata": {},
   "outputs": [],
   "source": [
    "import pandas as pd\n",
    "from demo.visual_gt_pred import *\n",
    "import re\n",
    "import mmcv\n",
    "\n",
    "# # load data from a file-like object, supporting json, yaml and pickle.\n",
    "# with open('test.json', 'r') as f:\n",
    "#     data = mmcv.load(f, file_format='json')\n",
    "# # dump data to a string\n",
    "# json_str = mmcv.dump(data, file_format='json')\n",
    "# mmcv.list_from_file('a.txt')"
   ]
  },
  {
   "cell_type": "code",
   "execution_count": 36,
   "metadata": {},
   "outputs": [
    {
     "name": "stdout",
     "output_type": "stream",
     "text": [
      "<class 'pandas.core.frame.DataFrame'>\n",
      "RangeIndex: 9912 entries, 0 to 9911\n",
      "Data columns (total 8 columns):\n",
      " #   Column    Non-Null Count  Dtype  \n",
      "---  ------    --------------  -----  \n",
      " 0   bbox      9912 non-null   object \n",
      " 1   center    9912 non-null   object \n",
      " 2   class     9912 non-null   int64  \n",
      " 3   instance  9912 non-null   int64  \n",
      " 4   cohort    9912 non-null   object \n",
      " 5   cid       9912 non-null   object \n",
      " 6   size      9912 non-null   float64\n",
      " 7   source    9912 non-null   object \n",
      "dtypes: float64(1), int64(2), object(5)\n",
      "memory usage: 619.6+ KB\n",
      "KY_B3_20_crop 20\n",
      "KY_B10_249_crop 249\n",
      "KY_B1_30_crop 27\n",
      "KY_B9_150_crop 150\n",
      "KY_B2_20_crop 17\n",
      "KY_B6_48_crop 48\n",
      "KY_B5_74_crop 74\n",
      "KY_B7_158_crop 158\n",
      "KY_B0_100_crop 73\n",
      "KY_B8_120_crop 120\n",
      "KY_B4_50_crop 48\n"
     ]
    }
   ],
   "source": [
    "tb_rt = Path('/data/lung_algorithm/data/DetFrac/processed_new/plan_frac_recheck') # plan_frac_recheck # plan_rib_crop\n",
    "# tb_rt = Path('/mnt/data4t/dejuns/ribfrac/processed/plan_frac_recheck')\n",
    "exclude_cohorts = ['KY_B11_144_crop', 'ribfrac2020_crop']\n",
    "cohortids = [a for a in os.listdir(tb_rt) if os.path.isdir(tb_rt/a)]\n",
    "\n",
    "roi_all_list = []\n",
    "cohort2roifps = {}\n",
    "for cohort in cohortids:\n",
    "    if cohort in exclude_cohorts: continue\n",
    "    cohort_dir = tb_rt/cohort\n",
    "    cids = os.listdir(cohort_dir)\n",
    "    cohort2roifps.setdefault(cohort, [])\n",
    "    for cid in cids:\n",
    "        roi_fp = cohort_dir/f'{cid}/{cid}_ins2cls.json'\n",
    "        cohort2roifps[cohort].append(roi_fp)\n",
    "        with open(roi_fp, 'r') as f:\n",
    "            roi_info = mmcv.load(f, file_format='json')\n",
    "        for roi in roi_info: \n",
    "            roi['cohort'] = cohort\n",
    "            roi['cid'] = cid\n",
    "            roi['size'] = np.linalg.norm(np.array(roi['bbox'])[3:] - np.array(roi['bbox'])[:3])\n",
    "        roi_all_list.extend(roi_info)\n",
    "\n",
    "\n",
    "roi_all_tb = pd.DataFrame(roi_all_list)\n",
    "roi_all_tb['source'] = roi_all_tb['cohort'].apply(lambda x: 'ky' if 'KY' in x else 'pub')\n",
    "roi_all_tb.info()\n",
    "# roi_all_tb.to_csv(tb_rt/'fracture_instance_info_all.csv')\n",
    "\n",
    "for c, fns in cohort2roifps.items():\n",
    "    print(f'{c} {len(fns)}' )"
   ]
  },
  {
   "cell_type": "code",
   "execution_count": 29,
   "metadata": {},
   "outputs": [
    {
     "name": "stdout",
     "output_type": "stream",
     "text": [
      "[4 3 1 2]\n",
      "class 7 instance 0 pid 0\n"
     ]
    }
   ],
   "source": [
    "class_unique = roi_all_tb['class'].unique()\n",
    "print(class_unique)\n",
    "\n",
    "error_cls_mask = roi_all_tb['class'] > 5\n",
    "error_cls_tb = roi_all_tb.loc[error_cls_mask , : ]\n",
    "# error_cls_mask.to_csv(tb_rt/'fracture_instance_error_cls_mask.csv')\n",
    "num_of_error = sum(error_cls_mask)\n",
    "error_pids = error_cls_tb['cid'].unique()\n",
    "print(f'class 7 instance {num_of_error} pid', len(error_pids))\n",
    "# aa = [print(a) for a in error_pids]"
   ]
  },
  {
   "cell_type": "code",
   "execution_count": 42,
   "metadata": {},
   "outputs": [
    {
     "data": {
      "image/png": "[encoded data removed]",
      "text/plain": [
       "<Figure size 432x288 with 1 Axes>"
      ]
     },
     "metadata": {
      "needs_background": "light"
     },
     "output_type": "display_data"
    }
   ],
   "source": [
    "# roi_all_tb['size'].hist(bins = 40, by= roi_all_tb['class'], layout = (1, 4), figsize=(12, 3))\n",
    "ax = roi_all_tb['size'].plot.box(by= roi_all_tb['class'])\n"
   ]
  },
  {
   "cell_type": "code",
   "execution_count": 41,
   "metadata": {},
   "outputs": [
    {
     "data": {
      "text/plain": [
       "<AxesSubplot:ylabel='Frequency'>"
      ]
     },
     "execution_count": 41,
     "metadata": {},
     "output_type": "execute_result"
    },
    {
     "data": {
      "image/png": "[encoded data removed]",
      "text/plain": [
       "<Figure size 432x288 with 1 Axes>"
      ]
     },
     "metadata": {
      "needs_background": "light"
     },
     "output_type": "display_data"
    }
   ],
   "source": [
    "\n",
    "roi_all_tb['class'].plot.hist(ylim=(0,7000), xlim = (0, 6)) # by= roi_all_tb['source']\n"
   ]
  },
  {
   "cell_type": "code",
   "execution_count": 38,
   "metadata": {},
   "outputs": [
    {
     "name": "stdout",
     "output_type": "stream",
     "text": [
      "source    ky\n",
      "class       \n",
      "1        464\n",
      "2        607\n",
      "3       1472\n",
      "4        875\n",
      "5       6424\n",
      "7         70\n"
     ]
    }
   ],
   "source": [
    "cls_by_source = pd.crosstab(roi_all_tb['class'], roi_all_tb['source'])\n",
    "print(cls_by_source)"
   ]
  },
  {
   "cell_type": "code",
   "execution_count": 12,
   "metadata": {},
   "outputs": [
    {
     "name": "stdout",
     "output_type": "stream",
     "text": [
      "Num fracture keya 9912\n"
     ]
    },
    {
     "data": {
      "image/png": "[encoded data removed]",
      "text/plain": [
       "<Figure size 864x216 with 6 Axes>"
      ]
     },
     "metadata": {
      "needs_background": "light"
     },
     "output_type": "display_data"
    }
   ],
   "source": [
    "roi_info_ky = roi_all_tb.loc[roi_all_tb['source'] == 'ky', :]\n",
    "# roi_info_pub = roi_all_tb.loc[roi_all_tb['source'] == 'pub', :]\n",
    "\n",
    "roi_info_ky['size'].hist(by= roi_info_ky['class'], layout = (1, 6), figsize=(12, 3))\n",
    "# roi_info_pub['size'].hist(by= roi_info_pub['class'], layout = (1, 4), figsize=(12, 3))\n",
    "\n",
    "print('Num fracture keya', len(roi_info_ky))\n",
    "# print('Num fracture pub', len(roi_info_pub))"
   ]
  },
  {
   "cell_type": "code",
   "execution_count": 14,
   "metadata": {},
   "outputs": [
    {
     "name": "stdout",
     "output_type": "stream",
     "text": [
      "<class 'pandas.core.frame.DataFrame'>\n",
      "RangeIndex: 940 entries, 0 to 939\n",
      "Data columns (total 4 columns):\n",
      " #   Column    Non-Null Count  Dtype \n",
      "---  ------    --------------  ----- \n",
      " 0   cid       940 non-null    object\n",
      " 1   cohort    940 non-null    object\n",
      " 2   source    940 non-null    object\n",
      " 3   instance  940 non-null    int64 \n",
      "dtypes: int64(1), object(3)\n",
      "memory usage: 29.5+ KB\n",
      "None\n",
      "         instance\n",
      "count  940.000000\n",
      "mean     3.959574\n",
      "std      3.607539\n",
      "min      1.000000\n",
      "25%      1.000000\n",
      "50%      3.000000\n",
      "75%      5.000000\n",
      "max     24.000000\n"
     ]
    }
   ],
   "source": [
    "tp_mask = roi_all_tb['class'] < 5\n",
    "roi_tp_tb = roi_all_tb.loc[tp_mask, :]\n",
    "roi_tp_tb.reset_index(inplace = True)\n",
    "pid_base_infos = pd.pivot_table(roi_tp_tb, index = ['cid', 'cohort', 'source'], values = 'instance', aggfunc=lambda x: len(x))\n",
    "pid_base_infos.reset_index(inplace = True)\n",
    "print(pid_base_infos.info())\n",
    "print(pid_base_infos.describe())\n",
    "# pred_case_tb = pd.pivot_table(pred_nodes_tb,index = ['pid', 'date_num', 'sub_dir'],\n",
    "#                                           # columns = [''],\n",
    "#                                           values = 'node_type',\n",
    "#                                           aggfunc=lambda x:len(x))"
   ]
  },
  {
   "cell_type": "code",
   "execution_count": 15,
   "metadata": {},
   "outputs": [
    {
     "data": {
      "text/plain": [
       "array([<AxesSubplot:title={'center':'ky'}>,\n",
       "       <AxesSubplot:title={'center':'pub'}>], dtype=object)"
      ]
     },
     "execution_count": 15,
     "metadata": {},
     "output_type": "execute_result"
    },
    {
     "data": {
      "image/png": "[encoded data removed]",
      "text/plain": [
       "<Figure size 432x288 with 2 Axes>"
      ]
     },
     "metadata": {
      "needs_background": "light"
     },
     "output_type": "display_data"
    }
   ],
   "source": [
    "pid_base_infos['instance'].hist(by = pid_base_infos['source'])"
   ]
  },
  {
   "cell_type": "code",
   "execution_count": 16,
   "metadata": {},
   "outputs": [
    {
     "name": "stdout",
     "output_type": "stream",
     "text": [
      "KY_B10_249_crop     226\n",
      "KY_B7_158_crop      142\n",
      "KY_B9_150_crop      136\n",
      "KY_B8_120_crop      112\n",
      "KY_B0_100_crop       72\n",
      "KY_B5_74_crop        71\n",
      "ribfrac2020_crop     44\n",
      "KY_B4_50_crop        42\n",
      "KY_B6_48_crop        35\n",
      "KY_B1_30_crop        26\n",
      "KY_B3_20_crop        19\n",
      "KY_B2_20_crop        15\n",
      "Name: cohort, dtype: int64 940\n"
     ]
    }
   ],
   "source": [
    "# pib_ky_tb = pid_base_infos.loc[pid_base_infos['source'] == 'ky', :]\n",
    "count_by_cohort = pid_base_infos['cohort'].value_counts()\n",
    "print(count_by_cohort, sum(count_by_cohort))\n",
    "\n",
    "# KY_B3_20_crop 20\n",
    "# KY_B10_249_crop 249\n",
    "# KY_B11_144_crop 0\n",
    "# ribfrac2020_crop 46\n",
    "# KY_B1_30_crop 27\n",
    "# KY_B9_150_crop 150\n",
    "# KY_B2_20_crop 17\n",
    "# KY_B6_48_crop 48\n",
    "# KY_B5_74_crop 74\n",
    "# KY_B7_158_crop 158\n",
    "# KY_B0_100_crop 73\n",
    "# KY_B8_120_crop 120\n",
    "# KY_B4_50_crop 48\n"
   ]
  },
  {
   "cell_type": "code",
   "execution_count": null,
   "metadata": {},
   "outputs": [],
   "source": [
    "ax = count_by_cohort.plot.bar()\n",
    "print(ax)"
   ]
  },
  {
   "cell_type": "code",
   "execution_count": null,
   "metadata": {},
   "outputs": [],
   "source": []
  }
 ],
 "metadata": {
  "interpreter": {
   "hash": "b313b89c770c2a07f40ad750b6217309c13836414a0cf296ef83f5564efd635c"
  },
  "kernelspec": {
   "display_name": "Python 3",
   "language": "python",
   "name": "python3"
  },
  "language_info": {
   "codemirror_mode": {
    "name": "ipython",
    "version": 3
   },
   "file_extension": ".py",
   "mimetype": "text/x-python",
   "name": "python",
   "nbconvert_exporter": "python",
   "pygments_lexer": "ipython3",
   "version": "3.8.5"
  }
 },
 "nbformat": 4,
 "nbformat_minor": 4
}
