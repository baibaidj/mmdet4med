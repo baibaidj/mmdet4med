{
 "cells": [
  {
   "cell_type": "code",
   "execution_count": 1,
   "metadata": {},
   "outputs": [
    {
     "name": "stdout",
     "output_type": "stream",
     "text": [
      "['/home/dejuns/git/mmdet4med/demo', '/home/dejuns/miniconda3/lib/python38.zip', '/home/dejuns/miniconda3/lib/python3.8', '/home/dejuns/miniconda3/lib/python3.8/lib-dynload', '', '/home/dejuns/miniconda3/lib/python3.8/site-packages', '/home/dejuns/git/mmseg4med', '/home/dejuns/miniconda3/lib/python3.8/site-packages/ribfrac-1.0.0-py3.8.egg', '/home/dejuns/git/nnDetection', '/home/dejuns/git/mmdet4med', '/home/dejuns/miniconda3/lib/python3.8/site-packages/D3D-1.0-py3.8-linux-x86_64.egg', '/home/dejuns/miniconda3/lib/python3.8/site-packages/IPython/extensions', '/home/dejuns/.ipython', '/home/dejuns/git/mmdet4med']\n"
     ]
    }
   ],
   "source": [
    "import os, sys\n",
    "sys.path.append(os.path.dirname(os.getcwd()))\n",
    "print_tensor = lambda n, x: print(n, type(x), x.shape, x.min(), x.max())\n",
    "print(sys.path)\n",
    "# from pathlib import Pathth"
   ]
  },
  {
   "cell_type": "code",
   "execution_count": 2,
   "metadata": {},
   "outputs": [],
   "source": [
    "%matplotlib inline\n",
    "%reload_ext autoreload\n",
    "%autoreload 2\n"
   ]
  },
  {
   "cell_type": "code",
   "execution_count": 5,
   "metadata": {},
   "outputs": [],
   "source": [
    "import pandas as pd\n",
    "from demo.visual_gt_pred import *\n",
    "import re\n",
    "import mmcv\n",
    "from demo.io4med import IO4Nii\n",
    "from mmdet.datasets.transform4med.io4med import *\n",
    "from tqdm import tqdm"
   ]
  },
  {
   "cell_type": "code",
   "execution_count": 6,
   "metadata": {},
   "outputs": [
    {
     "name": "stdout",
     "output_type": "stream",
     "text": [
      "total fns 5586\n"
     ]
    }
   ],
   "source": [
    "task_dir = Path('/home/dejuns/git/mmdet4med/data/Task100_All_pretrain')\n",
    "set_fn = 'image_nii_fps_1025.txt'\n",
    "\n",
    "image_fps = load_string_list(task_dir/set_fn)\n",
    "print('total fns', len(image_fps))"
   ]
  },
  {
   "cell_type": "code",
   "execution_count": 7,
   "metadata": {},
   "outputs": [
    {
     "name": "stderr",
     "output_type": "stream",
     "text": [
      " 59%|█████▉    | 3314/5586 [1:19:54<1:08:06,  1.80s/it]"
     ]
    },
    {
     "name": "stdout",
     "output_type": "stream",
     "text": [
      "[IO4Nii] sitk read /data/lung_algorithm/data/sw_project/lung/MONAI/raw/imagesAll_0404/case_00645_0000.nii.gz\n"
     ]
    },
    {
     "name": "stderr",
     "output_type": "stream",
     "text": [
      "100%|██████████| 5586/5586 [2:45:45<00:00,  1.78s/it]  \n"
     ]
    }
   ],
   "source": [
    "valid_fps = []\n",
    "invalid_fps = []\n",
    "\n",
    "for fp in tqdm(image_fps):\n",
    "    try:\n",
    "        img, af = IO4Nii.read(fp, verbose = False)\n",
    "        valid_fps.append(fp)\n",
    "    except ValueError or Exception:\n",
    "        invalid_fps.append(fp)\n",
    "\n",
    "save_string_list(task_dir/'image_nii_fps_valid', valid_fps)\n",
    "save_string_list(task_dir/'image_nii_fps_invalid', invalid_fps)"
   ]
  },
  {
   "cell_type": "code",
   "execution_count": 8,
   "metadata": {},
   "outputs": [
    {
     "name": "stdout",
     "output_type": "stream",
     "text": [
      "NIBABEL\n",
      "[IO4Nii] sitk read /data/lung_algorithm/data/sw_project/lung/MONAI/raw/imagesAll_0404/case_00645_0000.nii.gz\n",
      "\n",
      "\n",
      "[IO4Nii] affine raw\n",
      " [[  -0.9453125    -0.            0.         -217.        ]\n",
      " [  -0.           -0.9453125     0.          -71.        ]\n",
      " [  -0.           -0.            2.          459.79998779]\n",
      " [   0.            0.            0.            1.        ]]\n",
      "[IO4Nii] affine xyz\n",
      " [[  -0.945312   -0.          0.       -217.      ]\n",
      " [  -0.         -0.945312    0.        -71.      ]\n",
      " [  -0.         -0.          2.        459.799988]\n",
      " [   0.          0.          0.          1.      ]]\n",
      "[IO4Nii] xyz dim index [0, 1, 2]\n",
      "[IO4Nii] xyz sign [1, 1, 1]\n",
      "[IO4Nii] image raw <class 'numpy.ndarray'> int16 (512, 512, 190) -1024 3071\n",
      "[IO4Nii] image xyz <class 'numpy.ndarray'> int16 (512, 512, 190) -1024 3071\n"
     ]
    }
   ],
   "source": [
    "test_fp = '/data/lung_algorithm/data/sw_project/lung/MONAI/raw/imagesAll_0404/case_00645_0000.nii.gz'\n",
    "img, af = IO4Nii.read(test_fp, verbose = True)"
   ]
  },
  {
   "cell_type": "code",
   "execution_count": null,
   "metadata": {},
   "outputs": [],
   "source": []
  }
 ],
 "metadata": {
  "kernelspec": {
   "display_name": "Python 3.8.5 64-bit ('base': conda)",
   "language": "python",
   "name": "python385jvsc74a57bd0b313b89c770c2a07f40ad750b6217309c13836414a0cf296ef83f5564efd635c"
  },
  "language_info": {
   "codemirror_mode": {
    "name": "ipython",
    "version": 3
   },
   "file_extension": ".py",
   "mimetype": "text/x-python",
   "name": "python",
   "nbconvert_exporter": "python",
   "pygments_lexer": "ipython3",
   "version": "3.8.5"
  }
 },
 "nbformat": 4,
 "nbformat_minor": 4
}
