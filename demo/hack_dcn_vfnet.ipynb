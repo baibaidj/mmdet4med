{
 "cells": [
  {
   "cell_type": "code",
   "execution_count": 2,
   "source": [
    "import torch\n",
    "import numpy as np\n",
    "from visual_gt_pred import *"
   ],
   "outputs": [],
   "metadata": {}
  },
  {
   "cell_type": "code",
   "execution_count": 14,
   "source": [
    "\n",
    "\n",
    "num_dconv_points = 9\n",
    "dcn_kernel = int(np.power(num_dconv_points, 1/2)) # 3 \n",
    "dcn_pad = int((dcn_kernel - 1) / 2)\n",
    "dcn_base = np.arange(-dcn_pad,  dcn_pad + 1).astype(np.float64)\n",
    "\n",
    "dcn_base_y = np.repeat(dcn_base, dcn_kernel)\n",
    "dcn_base_x = np.tile(dcn_base, dcn_kernel)\n",
    "dcn_base_offset = np.stack([dcn_base_y, dcn_base_x], axis=1)\n",
    "print('dcn_base_offset stack\\n', dcn_base_offset)\n",
    "dcn_base_offset = torch.tensor(dcn_base_offset.reshape((-1))).view(1, -1, 1, 1)\n",
    "\n",
    "\n",
    "print('dcn kernel', dcn_kernel)\n",
    "print('dcn pad', dcn_pad)\n",
    "print('dcn base', dcn_base)\n",
    "\n",
    "print('dcn_base_y', dcn_base_y)\n",
    "print('dcn base x', dcn_base_x)\n",
    "print('dcn_base_offset\\n', dcn_base_offset[0,:,0,0].tolist())\n"
   ],
   "outputs": [
    {
     "output_type": "stream",
     "name": "stdout",
     "text": [
      "dcn_base_offset stack\n",
      " [[-1. -1.]\n",
      " [-1.  0.]\n",
      " [-1.  1.]\n",
      " [ 0. -1.]\n",
      " [ 0.  0.]\n",
      " [ 0.  1.]\n",
      " [ 1. -1.]\n",
      " [ 1.  0.]\n",
      " [ 1.  1.]]\n",
      "dcn kernel 3\n",
      "dcn pad 1\n",
      "dcn base [-1.  0.  1.]\n",
      "dcn_base_y [-1. -1. -1.  0.  0.  0.  1.  1.  1.]\n",
      "dcn base x [-1.  0.  1. -1.  0.  1. -1.  0.  1.]\n",
      "dcn_base_offset\n",
      " [-1.0, -1.0, -1.0, 0.0, -1.0, 1.0, 0.0, -1.0, 0.0, 0.0, 0.0, 1.0, 1.0, -1.0, 1.0, 0.0, 1.0, 1.0]\n"
     ]
    }
   ],
   "metadata": {}
  },
  {
   "cell_type": "code",
   "execution_count": 7,
   "source": [
    "def _meshgrid(x, y, z, row_major=True):\n",
    "    \"\"\"Generate mesh grid of x and y.\n",
    "\n",
    "    Args:\n",
    "        x (torch.Tensor): Grids of x dimension.\n",
    "        y (torch.Tensor): Grids of y dimension.\n",
    "        row_major (bool, optional): Whether to return y grids first.\n",
    "            Defaults to True.\n",
    "\n",
    "    Returns:\n",
    "        tuple[torch.Tensor]: The mesh grids of x and y.\n",
    "    \"\"\"\n",
    "    # use shape instead of len to keep tracing while exporting to onnx\n",
    "    x2 = x[:, None]\n",
    "    y2 = y[None, :]\n",
    "    print('x2', x2, x2.shape)\n",
    "    print('y2', y2, y2.shape)\n",
    "    \n",
    "    xx = x2.repeat(1, y.shape[0])\n",
    "    yy = y2.repeat(x.shape[0], 1)\n",
    "    \n",
    "    print('xx', xx)\n",
    "    print('yy', yy)\n",
    "    \n",
    "    xxx = x[:, None, None].repeat(1, y.shape[0], z.shape[0]) # 3dim\n",
    "    yyy = y[None, :, None].repeat(x.shape[0], 1, z.shape[0])\n",
    "    zzz = z[None, None, :].repeat(x.shape[0], y.shape[0], 1)\n",
    "    print(xxx.shape)\n",
    "    print(yyy.shape)\n",
    "    print(zzz.shape)\n",
    "    xxx = xxx.view(-1)\n",
    "    yyy = yyy.view(-1)\n",
    "    zzz = zzz.view(-1)\n",
    "    if row_major:\n",
    "        return xxx, yyy, zzz\n",
    "    else:\n",
    "        return yyy, xxx, zzz\n",
    "    \n",
    "\n",
    "x = y = z = torch.arange(3)\n",
    "grids = _meshgrid(x, y, z)\n",
    "grids_nx3 = torch.stack(grids, dim = 1) - 1\n",
    "print(grids_nx3.shape)\n",
    "grids_flatten = grids_nx3.flatten()\n",
    "print(grids_flatten, grids_flatten.shape)\n"
   ],
   "outputs": [
    {
     "output_type": "stream",
     "name": "stdout",
     "text": [
      "x2 tensor([[0],\n",
      "        [1],\n",
      "        [2]]) torch.Size([3, 1])\n",
      "y2 tensor([[0, 1, 2]]) torch.Size([1, 3])\n",
      "xx tensor([[0, 0, 0],\n",
      "        [1, 1, 1],\n",
      "        [2, 2, 2]])\n",
      "yy tensor([[0, 1, 2],\n",
      "        [0, 1, 2],\n",
      "        [0, 1, 2]])\n",
      "torch.Size([3, 3, 3])\n",
      "torch.Size([3, 3, 3])\n",
      "torch.Size([3, 3, 3])\n",
      "torch.Size([27, 3])\n",
      "tensor([-1, -1, -1, -1, -1,  0, -1, -1,  1, -1,  0, -1, -1,  0,  0, -1,  0,  1,\n",
      "        -1,  1, -1, -1,  1,  0, -1,  1,  1,  0, -1, -1,  0, -1,  0,  0, -1,  1,\n",
      "         0,  0, -1,  0,  0,  0,  0,  0,  1,  0,  1, -1,  0,  1,  0,  0,  1,  1,\n",
      "         1, -1, -1,  1, -1,  0,  1, -1,  1,  1,  0, -1,  1,  0,  0,  1,  0,  1,\n",
      "         1,  1, -1,  1,  1,  0,  1,  1,  1]) torch.Size([81])\n"
     ]
    }
   ],
   "metadata": {}
  },
  {
   "cell_type": "code",
   "execution_count": 40,
   "source": [
    "meshgrid_torch = torch.stack(torch.meshgrid([x, y,  z]), axis = -1).reshape(-1, 3)\n",
    "\n",
    "# aa = [print_tensor(m, g) for m, g in enumerate(meshgrid_torch)]\n",
    "print(meshgrid_torch.shape)\n",
    "print(meshgrid_torch - 1)\n",
    "\n"
   ],
   "outputs": [
    {
     "output_type": "stream",
     "name": "stdout",
     "text": [
      "torch.Size([27, 3])\n",
      "tensor([[-1, -1, -1],\n",
      "        [-1, -1,  0],\n",
      "        [-1, -1,  1],\n",
      "        [-1,  0, -1],\n",
      "        [-1,  0,  0],\n",
      "        [-1,  0,  1],\n",
      "        [-1,  1, -1],\n",
      "        [-1,  1,  0],\n",
      "        [-1,  1,  1],\n",
      "        [ 0, -1, -1],\n",
      "        [ 0, -1,  0],\n",
      "        [ 0, -1,  1],\n",
      "        [ 0,  0, -1],\n",
      "        [ 0,  0,  0],\n",
      "        [ 0,  0,  1],\n",
      "        [ 0,  1, -1],\n",
      "        [ 0,  1,  0],\n",
      "        [ 0,  1,  1],\n",
      "        [ 1, -1, -1],\n",
      "        [ 1, -1,  0],\n",
      "        [ 1, -1,  1],\n",
      "        [ 1,  0, -1],\n",
      "        [ 1,  0,  0],\n",
      "        [ 1,  0,  1],\n",
      "        [ 1,  1, -1],\n",
      "        [ 1,  1,  0],\n",
      "        [ 1,  1,  1]])\n"
     ]
    }
   ],
   "metadata": {}
  },
  {
   "cell_type": "code",
   "execution_count": 36,
   "source": [
    "print(meshgrid_torch[2].reshape((-1)))"
   ],
   "outputs": [
    {
     "output_type": "stream",
     "name": "stdout",
     "text": [
      "tensor([0, 1, 2, 0, 1, 2, 0, 1, 2, 0, 1, 2, 0, 1, 2, 0, 1, 2, 0, 1, 2, 0, 1, 2,\n",
      "        0, 1, 2])\n"
     ]
    }
   ],
   "metadata": {}
  },
  {
   "cell_type": "code",
   "execution_count": 16,
   "source": [
    "bbox_pred = torch.randn((1, 4, 3, 3))\n",
    "gradient_mul = 0.1\n",
    "stride = 1\n",
    "print(bbox_pred, bbox_pred.shape)"
   ],
   "outputs": [
    {
     "output_type": "stream",
     "name": "stdout",
     "text": [
      "tensor([[[[-0.0782,  1.3287,  0.0268],\n",
      "          [ 0.9699, -1.4672,  0.1441],\n",
      "          [-0.3651, -0.7981,  0.7844]],\n",
      "\n",
      "         [[-0.3078,  1.1395, -0.8255],\n",
      "          [ 0.4193,  0.0405,  0.3509],\n",
      "          [ 0.9451, -1.1516, -0.6292]],\n",
      "\n",
      "         [[ 0.2406, -0.6891, -0.0252],\n",
      "          [ 2.9733, -0.3231, -0.4262],\n",
      "          [ 1.1185,  0.6263,  1.7979]],\n",
      "\n",
      "         [[ 0.0432,  0.2825, -1.0464],\n",
      "          [ 0.7600,  1.3766, -0.1705],\n",
      "          [-0.0144,  0.0650, -0.1380]]]]) torch.Size([1, 4, 3, 3])\n"
     ]
    }
   ],
   "metadata": {}
  },
  {
   "cell_type": "markdown",
   "source": [
    "\n",
    "self.dcn_base_offset: 9x2, \n",
    "[[-1. -1.]\n",
    "[-1.  0.]\n",
    "[-1.  1.]\n",
    "[ 0. -1.]\n",
    "[ 0.  0.]\n",
    "[ 0.  1.]\n",
    "[ 1. -1.]\n",
    "[ 1.  0.]\n",
    "[ 1.  1.]]\n",
    "\n",
    "[-1.0, -1.0, -1.0, 0.0, -1.0, 1.0, 0.0, -1.0, 0.0, 0.0, 0.0, 1.0, 1.0, -1.0, 1.0, 0.0, 1.0, 1.0]\n",
    "\n",
    "\n",
    "An offset is like `[y0, x0, y1, x1, y2, x2, ..., y8, x8]`.\n",
    "The spatial arrangement is like:\n",
    ".. code:: text\n",
    "    (x0, y0) (x1, y1) (x2, y2)\n",
    "    (x3, y3) (x4, y4) (x5, y5)\n",
    "    (x6, y6) (x7, y7) (x8, y8)\n"
   ],
   "metadata": {}
  },
  {
   "cell_type": "code",
   "execution_count": 17,
   "source": [
    "\n",
    "bbox_pred = torch.randn((1, 4, 3, 3))\n",
    "dcn_base_offset = dcn_base_offset.type_as(bbox_pred) # (1, 18, 1, 1), 9 points\n",
    "bbox_pred_grad_mul = (1 - gradient_mul) * bbox_pred.detach() + gradient_mul * bbox_pred\n",
    "# map to the feature map scale\n",
    "bbox_pred_grad_mul = bbox_pred_grad_mul / stride\n",
    "N, C, H, W = bbox_pred.size()\n",
    "\n",
    "l_x1 = bbox_pred_grad_mul[:, 0, :, :] # l\n",
    "t_y1 = bbox_pred_grad_mul[:, 1, :, :] # t\n",
    "r_x2 = bbox_pred_grad_mul[:, 2, :, :] # r\n",
    "b_y2 = bbox_pred_grad_mul[:, 3, :, :] # b\n",
    "bbox_pred_grad_mul_offset = bbox_pred.new_zeros( N, 2 * num_dconv_points, H, W)\n",
    "\n",
    "bbox_pred_grad_mul_offset[:, 0, :, :] = -1.0 * t_y1  # -y1, t\n",
    "bbox_pred_grad_mul_offset[:, 1, :, :] = -1.0 * l_x1  # -x1, l\n",
    "bbox_pred_grad_mul_offset[:, 2, :, :] = -1.0 * t_y1  # -y1, t\n",
    "bbox_pred_grad_mul_offset[:, 4, :, :] = -1.0 * t_y1  # -y1, t\n",
    "bbox_pred_grad_mul_offset[:, 5, :, :] = r_x2  # x2\n",
    "bbox_pred_grad_mul_offset[:, 7, :, :] = -1.0 * l_x1  # -x1\n",
    "bbox_pred_grad_mul_offset[:, 11, :, :] = r_x2  # x2\n",
    "bbox_pred_grad_mul_offset[:, 12, :, :] = b_y2  # y2\n",
    "bbox_pred_grad_mul_offset[:, 13, :, :] = -1.0 * l_x1  # -x1\n",
    "bbox_pred_grad_mul_offset[:, 14, :, :] = b_y2  # y2\n",
    "bbox_pred_grad_mul_offset[:, 16, :, :] = b_y2  # y2\n",
    "bbox_pred_grad_mul_offset[:, 17, :, :] = r_x2  # x2\n",
    "# dcn_offset = bbox_pred_grad_mul_offset - dcn_base_offset\n",
    "print_tensor('official', bbox_pred_grad_mul_offset)"
   ],
   "outputs": [
    {
     "output_type": "stream",
     "name": "stdout",
     "text": [
      "official <class 'torch.Tensor'> torch.Size([1, 18, 3, 3]) torch.float32 tensor(-1.8293) tensor(1.4824)\n"
     ]
    }
   ],
   "metadata": {}
  },
  {
   "cell_type": "markdown",
   "source": [],
   "metadata": {}
  },
  {
   "cell_type": "code",
   "execution_count": 18,
   "source": [
    "bbox_pred_grad_mul_offset_new = bbox_pred.new_zeros( N, 2 * num_dconv_points, H, W)\n",
    "points_nx2 = dcn_base_offset[0, :, 0, 0].reshape(-1, 2)\n",
    "print_tensor('p nx2', points_nx2)\n",
    "for i, point2 in enumerate(points_nx2):\n",
    "    y_sign, x_sign = point2 # (-1, -1)\n",
    "    y_ix, x_ix = i * 2, (i * 2 + 1)\n",
    "    if y_sign < 0:  y_offset = y_sign * t_y1 \n",
    "    elif y_sign > 0: y_offset = y_sign * b_y2\n",
    "    else: y_offset = None\n",
    "\n",
    "    if x_sign < 0: x_offset= x_sign * l_x1\n",
    "    elif x_sign > 0: x_offset = x_sign * r_x2\n",
    "    else: x_offset = None\n",
    "    \n",
    "    if y_offset is not None:\n",
    "        bbox_pred_grad_mul_offset_new[:, y_ix, ...] = y_offset\n",
    "    if x_offset is not None:\n",
    "        bbox_pred_grad_mul_offset_new[:, x_ix, ...] = x_offset\n",
    "    \n",
    "print_tensor('official', bbox_pred_grad_mul_offset)\n",
    "print_tensor('mine', bbox_pred_grad_mul_offset_new)\n",
    "compare_mat = bbox_pred_grad_mul_offset_new - bbox_pred_grad_mul_offset\n",
    "print(compare_mat.sum())\n"
   ],
   "outputs": [
    {
     "output_type": "stream",
     "name": "stdout",
     "text": [
      "p nx2 <class 'torch.Tensor'> torch.Size([9, 2]) torch.float32 tensor(-1.) tensor(1.)\n",
      "official <class 'torch.Tensor'> torch.Size([1, 18, 3, 3]) torch.float32 tensor(-1.8293) tensor(1.4824)\n",
      "mine <class 'torch.Tensor'> torch.Size([1, 18, 3, 3]) torch.float32 tensor(-1.8293) tensor(1.4824)\n",
      "tensor(0.)\n"
     ]
    }
   ],
   "metadata": {}
  },
  {
   "cell_type": "code",
   "execution_count": 21,
   "source": [
    "print(l_x1)\n",
    "print(bbox_pred_grad_mul_offset[:, 1, ...])\n",
    "print(bbox_pred_grad_mul_offset_new[:, 1, ...])"
   ],
   "outputs": [
    {
     "output_type": "stream",
     "name": "stdout",
     "text": [
      "tensor([[[ 0.1603, -0.5403,  0.8983],\n",
      "         [-0.1375,  0.6144, -0.3559],\n",
      "         [ 0.1795,  1.8293,  0.6029]]])\n",
      "tensor([[[-0.1603,  0.5403, -0.8983],\n",
      "         [ 0.1375, -0.6144,  0.3559],\n",
      "         [-0.1795, -1.8293, -0.6029]]])\n",
      "tensor([[[-0.1603,  0.5403, -0.8983],\n",
      "         [ 0.1375, -0.6144,  0.3559],\n",
      "         [-0.1795, -1.8293, -0.6029]]])\n"
     ]
    }
   ],
   "metadata": {}
  },
  {
   "cell_type": "code",
   "execution_count": null,
   "source": [],
   "outputs": [],
   "metadata": {}
  }
 ],
 "metadata": {
  "orig_nbformat": 4,
  "language_info": {
   "name": "python",
   "version": "3.8.5",
   "mimetype": "text/x-python",
   "codemirror_mode": {
    "name": "ipython",
    "version": 3
   },
   "pygments_lexer": "ipython3",
   "nbconvert_exporter": "python",
   "file_extension": ".py"
  },
  "kernelspec": {
   "name": "python3",
   "display_name": "Python 3.8.5 64-bit ('base': conda)"
  },
  "interpreter": {
   "hash": "b313b89c770c2a07f40ad750b6217309c13836414a0cf296ef83f5564efd635c"
  }
 },
 "nbformat": 4,
 "nbformat_minor": 2
}